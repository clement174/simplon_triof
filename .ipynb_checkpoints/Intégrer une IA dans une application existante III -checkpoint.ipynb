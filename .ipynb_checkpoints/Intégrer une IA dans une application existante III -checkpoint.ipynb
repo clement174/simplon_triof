{
 "cells": [
  {
   "cell_type": "markdown",
   "metadata": {},
   "source": [
    "## Intégréation de l'IA dans l'application III\n",
    "laurent cetinsoy\n",
    "\n",
    "\n",
    "Ce notebook est accompagné d'une application flask. \n",
    "\n",
    "Installer l'application\n",
    "Elle nécessite numpy, scipy et flask en librairies (cf requirements.txt). \n",
    "Il est possible que vous rencontriez des conflits de version qu'il faudra régler. \n",
    "\n",
    "\n",
    "Rappel, triof, la superbe startup a le problème suivant : n'indiquent pas nécessairement le bon type de plastique qu'ils mettent. De plus parfois les gens mettent des déchêts sales qui sont difficilement recyclables. \n",
    "\n"
   ]
  },
  {
   "cell_type": "markdown",
   "metadata": {},
   "source": []
  },
  {
   "cell_type": "markdown",
   "metadata": {},
   "source": [
    " Lancer l'application et la tester"
   ]
  },
  {
   "cell_type": "markdown",
   "metadata": {},
   "source": []
  },
  {
   "cell_type": "markdown",
   "metadata": {},
   "source": [
    "\n",
    "Décrire brièvement l'application et ses différents écrans (pas trop dur)"
   ]
  },
  {
   "cell_type": "markdown",
   "metadata": {},
   "source": []
  },
  {
   "cell_type": "markdown",
   "metadata": {},
   "source": [
    "Proposer une solution à base d'IA permettant de résoudre le problème de triof"
   ]
  },
  {
   "cell_type": "markdown",
   "metadata": {},
   "source": []
  },
  {
   "cell_type": "markdown",
   "metadata": {},
   "source": [
    "Ouvrir le fichier triof_app.py et indiquer la liste des urls disponible du programme ainsi que leur usage"
   ]
  },
  {
   "cell_type": "markdown",
   "metadata": {},
   "source": []
  },
  {
   "cell_type": "markdown",
   "metadata": {},
   "source": [
    "Le programme met à disposition une méthode permettant de \"prendre en photo\" le déchêt une fois ajouté dans la machine. Indiquer le nom du fichier contenant la méthode et le nom de la méthode"
   ]
  },
  {
   "cell_type": "markdown",
   "metadata": {},
   "source": []
  },
  {
   "cell_type": "markdown",
   "metadata": {},
   "source": [
    "Une fois l'IA développée, intégrer l'IA dans l'application et dans l'interface pour qu'elle réponde au mieux au problème. Expliquer votre démarche et les raisons qui vous ont poussé à faire les choix que vous avez fait."
   ]
  },
  {
   "cell_type": "markdown",
   "metadata": {},
   "source": []
  },
  {
   "cell_type": "markdown",
   "metadata": {},
   "source": [
    "Faire un screenshot de l'interface mise à jour"
   ]
  },
  {
   "cell_type": "markdown",
   "metadata": {},
   "source": []
  },
  {
   "cell_type": "markdown",
   "metadata": {},
   "source": [
    "Expliquer en quoi la solution mise en oeuvre améliore la situation"
   ]
  },
  {
   "cell_type": "markdown",
   "metadata": {},
   "source": []
  },
  {
   "cell_type": "markdown",
   "metadata": {},
   "source": [
    "Extraire les questions rédigées des notebooks et le mettre dans un document partagé. Mettre en forme le document pour que les parties aient des liens et me le partager"
   ]
  },
  {
   "cell_type": "markdown",
   "metadata": {},
   "source": []
  },
  {
   "cell_type": "markdown",
   "metadata": {},
   "source": [
    "\n",
    "Mettre votre code mis à jour sur un github et me le partager"
   ]
  },
  {
   "cell_type": "markdown",
   "metadata": {},
   "source": []
  }
 ],
 "metadata": {
  "kernelspec": {
   "display_name": "Python 3",
   "language": "python",
   "name": "python3"
  },
  "language_info": {
   "codemirror_mode": {
    "name": "ipython",
    "version": 3
   },
   "file_extension": ".py",
   "mimetype": "text/x-python",
   "name": "python",
   "nbconvert_exporter": "python",
   "pygments_lexer": "ipython3",
   "version": "3.7.1"
  }
 },
 "nbformat": 4,
 "nbformat_minor": 4
}
