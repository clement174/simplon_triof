{
 "cells": [
  {
   "cell_type": "markdown",
   "metadata": {},
   "source": [
    "# Intégrer une IA dans une application II - image\n",
    "\n",
    "Une entreprise a développé une machine de recyclage de dêchets plastiques en filament d'impression 3D (par exemple plastif). Elle loue ses machines aux entreprises qui peuvent ainsi augmenter le recyclage de ses déchêts : bouteilles, verres, couverts, etc. \n",
    "\n",
    "Il est important de trier les déchêts plastiques avant de les recycler car le point de fusion de chaque plastique est différent. L'entreprise a conçu une interface où l'utilisateur sélectionne le type de dêchet qu'il entre dans la machine. \n",
    "\n",
    "Malheureusement elle s'est rendue compte que les utilisateurs faisaient souvent des erreurs, entraînement des mélanges de plastique. Ce qui réduit la qualité du filament. \n"
   ]
  },
  {
   "cell_type": "markdown",
   "metadata": {},
   "source": [
    "Proposer une solution à base d'IA qui permettrait de résoudre le problème"
   ]
  },
  {
   "cell_type": "markdown",
   "metadata": {},
   "source": []
  },
  {
   "cell_type": "markdown",
   "metadata": {},
   "source": [
    "Quel(s) service(s) sur azure permettrait de résoudre facilement le problème ? "
   ]
  },
  {
   "cell_type": "code",
   "execution_count": null,
   "metadata": {},
   "outputs": [],
   "source": []
  },
  {
   "cell_type": "markdown",
   "metadata": {},
   "source": [
    "Décrire en quelques ligne son fonctionnement"
   ]
  },
  {
   "cell_type": "code",
   "execution_count": null,
   "metadata": {},
   "outputs": [],
   "source": []
  },
  {
   "cell_type": "markdown",
   "metadata": {},
   "source": [
    "Quel est son mode de tarification ? Combien coûte-t-il ? Quel budget faudrait-il envisager pour classifier 1000 images par mois ? Même question pour 10 000 ? "
   ]
  },
  {
   "cell_type": "code",
   "execution_count": null,
   "metadata": {},
   "outputs": [],
   "source": []
  },
  {
   "cell_type": "markdown",
   "metadata": {},
   "source": [
    "Lister les différentes services clouds fournis par d'autres providers (azure, google, amazon, ovh, etc) qui permettraient de répondre à la problématique exposée. "
   ]
  },
  {
   "cell_type": "markdown",
   "metadata": {},
   "source": []
  },
  {
   "cell_type": "markdown",
   "metadata": {},
   "source": [
    "Etablir un tableau comparatif des caractéristiques (prix, vitesse, possiblité d'utiliser l'outil avec un web service) des différents services et les synthétiser dans le tableau ci-dessous"
   ]
  },
  {
   "cell_type": "markdown",
   "metadata": {},
   "source": [
    "|        | Prix  | Web service  | etc  |   |\n",
    "|---     |---|---|---|---|\n",
    "|Azure X |   |   |   |   |\n",
    "| GCP X  |   |   |   |   |\n",
    "| etc    |   |   |   |   |"
   ]
  },
  {
   "cell_type": "markdown",
   "metadata": {},
   "source": [
    "Suite à ce comparatif, sélectionner l'outil qui vous paraît le plus adéquat pour répondre au problème en justifiant votre choix"
   ]
  },
  {
   "cell_type": "code",
   "execution_count": null,
   "metadata": {},
   "outputs": [],
   "source": []
  },
  {
   "cell_type": "markdown",
   "metadata": {},
   "source": [
    "Collecter une dizaine d'image par classe pour des verres en plastique, de bouteille en plastique et de couvert en plastique"
   ]
  },
  {
   "cell_type": "code",
   "execution_count": null,
   "metadata": {},
   "outputs": [],
   "source": []
  },
  {
   "cell_type": "markdown",
   "metadata": {},
   "source": [
    "Entraîner l'outil pour faire la classification."
   ]
  },
  {
   "cell_type": "code",
   "execution_count": null,
   "metadata": {},
   "outputs": [],
   "source": []
  },
  {
   "cell_type": "markdown",
   "metadata": {},
   "source": [
    "Déployer l'outil dans un web service. "
   ]
  },
  {
   "cell_type": "code",
   "execution_count": null,
   "metadata": {},
   "outputs": [],
   "source": []
  },
  {
   "cell_type": "markdown",
   "metadata": {},
   "source": [
    "A l'aide de la librairie requests, envoyer une requête contenant une image afin de permettre de tester que le web service fonctionne"
   ]
  },
  {
   "cell_type": "code",
   "execution_count": null,
   "metadata": {},
   "outputs": [],
   "source": []
  },
  {
   "cell_type": "markdown",
   "metadata": {},
   "source": [
    "Dans le dernier notebook, il ne restera qu'à intégrer cette belle IA dans l'application de l'entreprise qui va être fournie."
   ]
  }
 ],
 "metadata": {
  "kernelspec": {
   "display_name": "Python 3",
   "language": "python",
   "name": "python3"
  },
  "language_info": {
   "codemirror_mode": {
    "name": "ipython",
    "version": 3
   },
   "file_extension": ".py",
   "mimetype": "text/x-python",
   "name": "python",
   "nbconvert_exporter": "python",
   "pygments_lexer": "ipython3",
   "version": "3.7.1"
  }
 },
 "nbformat": 4,
 "nbformat_minor": 4
}
